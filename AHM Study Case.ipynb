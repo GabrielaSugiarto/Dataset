{
 "cells": [
  {
   "cell_type": "code",
   "execution_count": 20,
   "id": "20da5ba4",
   "metadata": {},
   "outputs": [
    {
     "name": "stdout",
     "output_type": "stream",
     "text": [
      "Defaulting to user installation because normal site-packages is not writeableNote: you may need to restart the kernel to use updated packages.\n",
      "\n",
      "Requirement already satisfied: google-play-scraper in c:\\users\\x1 pro\\appdata\\roaming\\python\\python312\\site-packages (1.2.7)\n"
     ]
    },
    {
     "name": "stderr",
     "output_type": "stream",
     "text": [
      "\n",
      "[notice] A new release of pip is available: 24.0 -> 25.1.1\n",
      "[notice] To update, run: python.exe -m pip install --upgrade pip\n"
     ]
    }
   ],
   "source": [
    "pip install google-play-scraper\n"
   ]
  },
  {
   "cell_type": "code",
   "execution_count": 21,
   "id": "f6244a2d",
   "metadata": {},
   "outputs": [
    {
     "name": "stdout",
     "output_type": "stream",
     "text": [
      "              userName  score  \\\n",
      "0       Reyhan Rizaldi      1   \n",
      "1           Sena Shein      1   \n",
      "2  Abi Musa Al Mohajir      5   \n",
      "3       Arnez zulfitri      1   \n",
      "4              Haryadi      2   \n",
      "\n",
      "                                             content                  at  \n",
      "0  aplikasi sampah, fitur track stnk dan plat gak... 2025-05-11 11:09:53  \n",
      "1  jelek bgt apk nya. katanya jenis service belum... 2025-05-02 21:10:04  \n",
      "2                                        mantap jaya 2025-05-01 08:21:51  \n",
      "3  parah, ga bisa booking. ga ada data service, s... 2025-05-01 07:37:31  \n",
      "4  Informasi riwayat servis kurang lengkap, tidak... 2025-04-30 17:58:10  \n"
     ]
    }
   ],
   "source": [
    "from google_play_scraper import Sort, reviews\n",
    "import pandas as pd\n",
    "\n",
    "app_package_name = 'com.hso.motorku'\n",
    "\n",
    "# Get reviews (up to 1000 reviews)\n",
    "review_list, _ = reviews(\n",
    "    app_package_name,\n",
    "    lang='en',  # Language of reviews\n",
    "    country='us',  # Country\n",
    "    sort=Sort.NEWEST,  # Sort by NEWEST or MOST_RELEVANT\n",
    "    count=5000,  # Max 5000 in one call\n",
    "    filter_score_with=None  # Can filter reviews by score (e.g., 5 for only 5-star reviews)\n",
    ")\n",
    "\n",
    "# Convert to pandas DataFrame\n",
    "df = pd.DataFrame(review_list)\n",
    "\n",
    "# Preview\n",
    "print(df[['userName', 'score', 'content', 'at']].head())\n",
    "\n",
    "\n",
    "\n"
   ]
  },
  {
   "cell_type": "code",
   "execution_count": 23,
   "id": "6654a604",
   "metadata": {},
   "outputs": [
    {
     "name": "stdout",
     "output_type": "stream",
     "text": [
      "File akan disimpan di: c:\\Users\\X1 PRO\\AppData\\Local\\Programs\\Microsoft VS Code\n",
      "File akan disimpan di: c:\\Users\\X1 PRO\\AppData\\Local\\Programs\\Microsoft VS Code\n"
     ]
    }
   ],
   "source": [
    "# Save to CSV\n",
    "df.to_csv('motorkux_playstore_reviews.csv', index=False)\n",
    "import os\n",
    "print(\"File akan disimpan di:\", os.getcwd())\n",
    "\n",
    "# Save to Excel\n",
    "df.to_excel('motorkux_playstore_reviews.xlsx', index=False)\n",
    "import os\n",
    "print(\"File akan disimpan di:\", os.getcwd())"
   ]
  },
  {
   "cell_type": "code",
   "execution_count": 27,
   "id": "6f0c06d5",
   "metadata": {},
   "outputs": [
    {
     "name": "stdout",
     "output_type": "stream",
     "text": [
      "Scraping reviews from country: id\n",
      "  Page 1 from id done. Total reviews collected: 49\n",
      "  Page 2 from id done. Total reviews collected: 98\n",
      "  Page 3 from id done. Total reviews collected: 147\n",
      "  Page 4 from id done. Total reviews collected: 196\n",
      "  Page 5 from id done. Total reviews collected: 245\n",
      "  Page 6 from id done. Total reviews collected: 294\n",
      "  Page 7 from id done. Total reviews collected: 343\n",
      "  Page 8 from id done. Total reviews collected: 392\n",
      "  Page 9 from id done. Total reviews collected: 441\n",
      "  Page 10 from id done. Total reviews collected: 490\n",
      "Request failed or no more pages for id page 11.\n",
      "Scraping reviews from country: us\n",
      "No more reviews on page 1 for us.\n",
      "Scraping reviews from country: sg\n",
      "No more reviews on page 1 for sg.\n",
      "Scraping reviews from country: my\n",
      "No more reviews on page 1 for my.\n",
      "Scraping reviews from country: ph\n",
      "No more reviews on page 1 for ph.\n",
      "Scraping reviews from country: au\n",
      "No more reviews on page 1 for au.\n",
      "Scraping reviews from country: gb\n",
      "No more reviews on page 1 for gb.\n"
     ]
    },
    {
     "ename": "AttributeError",
     "evalue": "'DataFrame' object has no attribute 'to_xlsx'",
     "output_type": "error",
     "traceback": [
      "\u001b[1;31m---------------------------------------------------------------------------\u001b[0m",
      "\u001b[1;31mAttributeError\u001b[0m                            Traceback (most recent call last)",
      "\u001b[1;32m~\\AppData\\Local\\Temp\\ipykernel_11828\\2282730010.py\u001b[0m in \u001b[0;36m?\u001b[1;34m()\u001b[0m\n\u001b[0;32m     42\u001b[0m         \u001b[0msleep\u001b[0m\u001b[1;33m(\u001b[0m\u001b[1;36m1\u001b[0m\u001b[1;33m)\u001b[0m  \u001b[1;31m# delay supaya gak terlalu cepat request ke server Apple\u001b[0m\u001b[1;33m\u001b[0m\u001b[1;33m\u001b[0m\u001b[0m\n\u001b[0;32m     43\u001b[0m \u001b[1;33m\u001b[0m\u001b[0m\n\u001b[0;32m     44\u001b[0m \u001b[1;31m# Buat DataFrame dan simpan Excel\u001b[0m\u001b[1;33m\u001b[0m\u001b[1;33m\u001b[0m\u001b[0m\n\u001b[0;32m     45\u001b[0m \u001b[0mdf\u001b[0m \u001b[1;33m=\u001b[0m \u001b[0mpd\u001b[0m\u001b[1;33m.\u001b[0m\u001b[0mDataFrame\u001b[0m\u001b[1;33m(\u001b[0m\u001b[0mall_reviews\u001b[0m\u001b[1;33m)\u001b[0m\u001b[1;33m\u001b[0m\u001b[1;33m\u001b[0m\u001b[0m\n\u001b[1;32m---> 46\u001b[1;33m \u001b[0mdf\u001b[0m\u001b[1;33m.\u001b[0m\u001b[0mto_xlsx\u001b[0m\u001b[1;33m(\u001b[0m\u001b[1;34m'motorkux_reviews_multiple_countries.xlsx'\u001b[0m\u001b[1;33m,\u001b[0m \u001b[0mindex\u001b[0m\u001b[1;33m=\u001b[0m\u001b[1;32mFalse\u001b[0m\u001b[1;33m,\u001b[0m \u001b[0mencoding\u001b[0m\u001b[1;33m=\u001b[0m\u001b[1;34m'utf-8-sig'\u001b[0m\u001b[1;33m)\u001b[0m\u001b[1;33m\u001b[0m\u001b[1;33m\u001b[0m\u001b[0m\n\u001b[0m\u001b[0;32m     47\u001b[0m \u001b[1;33m\u001b[0m\u001b[0m\n\u001b[0;32m     48\u001b[0m \u001b[0mprint\u001b[0m\u001b[1;33m(\u001b[0m\u001b[1;33mf\"\u001b[0m\u001b[1;33m\\nSelesai! Total reviews collected: \u001b[0m\u001b[1;33m{\u001b[0m\u001b[0mlen\u001b[0m\u001b[1;33m(\u001b[0m\u001b[0mall_reviews\u001b[0m\u001b[1;33m)\u001b[0m\u001b[1;33m}\u001b[0m\u001b[1;33m\"\u001b[0m\u001b[1;33m)\u001b[0m\u001b[1;33m\u001b[0m\u001b[1;33m\u001b[0m\u001b[0m\n\u001b[0;32m     49\u001b[0m \u001b[0mprint\u001b[0m\u001b[1;33m(\u001b[0m\u001b[1;34m\"Disimpan ke 'motorkux_reviews_multiple_countries.xlsx'\"\u001b[0m\u001b[1;33m)\u001b[0m\u001b[1;33m\u001b[0m\u001b[1;33m\u001b[0m\u001b[0m\n",
      "\u001b[1;32m~\\AppData\\Roaming\\Python\\Python312\\site-packages\\pandas\\core\\generic.py\u001b[0m in \u001b[0;36m?\u001b[1;34m(self, name)\u001b[0m\n\u001b[0;32m   6295\u001b[0m             \u001b[1;32mand\u001b[0m \u001b[0mname\u001b[0m \u001b[1;32mnot\u001b[0m \u001b[1;32min\u001b[0m \u001b[0mself\u001b[0m\u001b[1;33m.\u001b[0m\u001b[0m_accessors\u001b[0m\u001b[1;33m\u001b[0m\u001b[1;33m\u001b[0m\u001b[0m\n\u001b[0;32m   6296\u001b[0m             \u001b[1;32mand\u001b[0m \u001b[0mself\u001b[0m\u001b[1;33m.\u001b[0m\u001b[0m_info_axis\u001b[0m\u001b[1;33m.\u001b[0m\u001b[0m_can_hold_identifiers_and_holds_name\u001b[0m\u001b[1;33m(\u001b[0m\u001b[0mname\u001b[0m\u001b[1;33m)\u001b[0m\u001b[1;33m\u001b[0m\u001b[1;33m\u001b[0m\u001b[0m\n\u001b[0;32m   6297\u001b[0m         \u001b[1;33m)\u001b[0m\u001b[1;33m:\u001b[0m\u001b[1;33m\u001b[0m\u001b[1;33m\u001b[0m\u001b[0m\n\u001b[0;32m   6298\u001b[0m             \u001b[1;32mreturn\u001b[0m \u001b[0mself\u001b[0m\u001b[1;33m[\u001b[0m\u001b[0mname\u001b[0m\u001b[1;33m]\u001b[0m\u001b[1;33m\u001b[0m\u001b[1;33m\u001b[0m\u001b[0m\n\u001b[1;32m-> 6299\u001b[1;33m         \u001b[1;32mreturn\u001b[0m \u001b[0mobject\u001b[0m\u001b[1;33m.\u001b[0m\u001b[0m__getattribute__\u001b[0m\u001b[1;33m(\u001b[0m\u001b[0mself\u001b[0m\u001b[1;33m,\u001b[0m \u001b[0mname\u001b[0m\u001b[1;33m)\u001b[0m\u001b[1;33m\u001b[0m\u001b[1;33m\u001b[0m\u001b[0m\n\u001b[0m",
      "\u001b[1;31mAttributeError\u001b[0m: 'DataFrame' object has no attribute 'to_xlsx'"
     ]
    }
   ],
   "source": [
    "import requests\n",
    "import pandas as pd\n",
    "from time import sleep\n",
    "\n",
    "app_id = '1500711969'  # ID aplikasi WeLoveHonda\n",
    "country_codes = ['id', 'us', 'sg', 'my', 'ph', 'au', 'gb']  # daftar negara yang ingin di-scrape\n",
    "all_reviews = []\n",
    "\n",
    "for country in country_codes:\n",
    "    print(f\"Scraping reviews from country: {country}\")\n",
    "    page = 1\n",
    "    while True:\n",
    "        url = f\"https://itunes.apple.com/{country}/rss/customerreviews/page={page}/id={app_id}/sortby=mostrecent/json\"\n",
    "        response = requests.get(url)\n",
    "        \n",
    "        if response.status_code != 200:\n",
    "            print(f\"Request failed or no more pages for {country} page {page}.\")\n",
    "            break\n",
    "        \n",
    "        data = response.json()\n",
    "        entries = data.get('feed', {}).get('entry', [])\n",
    "        \n",
    "        # Jika hanya ada metadata (1 entry) atau tidak ada, berhenti looping halaman\n",
    "        if len(entries) <= 1:\n",
    "            print(f\"No more reviews on page {page} for {country}.\")\n",
    "            break\n",
    "        \n",
    "        # Proses review (skip metadata di index 0)\n",
    "        for entry in entries[1:]:\n",
    "            all_reviews.append({\n",
    "                'author': entry['author']['name']['label'],\n",
    "                'rating': entry['im:rating']['label'],\n",
    "                'title': entry['title']['label'],\n",
    "                'review': entry['content']['label'],\n",
    "                'updated': entry['updated']['label'],\n",
    "                'version': entry.get('im:version', {}).get('label', ''),\n",
    "                'country': country\n",
    "            })\n",
    "        \n",
    "        print(f\"  Page {page} from {country} done. Total reviews collected: {len(all_reviews)}\")\n",
    "        page += 1\n",
    "        sleep(1)  # delay supaya gak terlalu cepat request ke server Apple\n",
    "\n",
    "# Buat DataFrame dan simpan Excel\n",
    "df = pd.DataFrame(all_reviews)\n",
    "df.to_xlsx('motorkux_reviews_multiple_countries.xlsx', index=False, encoding='utf-8-sig')\n",
    "\n",
    "print(f\"\\nSelesai! Total reviews collected: {len(all_reviews)}\")\n",
    "print(\"Disimpan ke 'motorkux_reviews_multiple_countries.xlsx'\")\n"
   ]
  }
 ],
 "metadata": {
  "kernelspec": {
   "display_name": "Python 3",
   "language": "python",
   "name": "python3"
  },
  "language_info": {
   "codemirror_mode": {
    "name": "ipython",
    "version": 3
   },
   "file_extension": ".py",
   "mimetype": "text/x-python",
   "name": "python",
   "nbconvert_exporter": "python",
   "pygments_lexer": "ipython3",
   "version": "3.12.3"
  }
 },
 "nbformat": 4,
 "nbformat_minor": 5
}
